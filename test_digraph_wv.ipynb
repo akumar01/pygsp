{
 "cells": [
  {
   "cell_type": "code",
   "execution_count": 2,
   "metadata": {},
   "outputs": [],
   "source": [
    "%load_ext autoreload\n",
    "%autoreload 2"
   ]
  },
  {
   "cell_type": "code",
   "execution_count": 3,
   "metadata": {},
   "outputs": [],
   "source": [
    "import numpy as np\n",
    "import scipy\n",
    "import matplotlib.pyplot as plt\n",
    "import networkx as nx"
   ]
  },
  {
   "cell_type": "code",
   "execution_count": 4,
   "metadata": {},
   "outputs": [],
   "source": [
    "from pygsp import graphs, filters, plotting, utils"
   ]
  },
  {
   "cell_type": "code",
   "execution_count": 27,
   "metadata": {},
   "outputs": [],
   "source": [
    "# Create a random directed graph\n",
    "G = nx.gnp_random_graph(100, 0.5, directed=True)\n",
    "A = nx.to_numpy_array(G)"
   ]
  },
  {
   "cell_type": "code",
   "execution_count": null,
   "metadata": {},
   "outputs": [],
   "source": [
    "# Reproducing Fig 2 in the magnetic Laplacian paper - (i.e. do we have an intuitive notion of frequency)"
   ]
  },
  {
   "cell_type": "code",
   "execution_count": 6,
   "metadata": {},
   "outputs": [],
   "source": [
    "def total_variation(f, G):\n",
    "    source, target, _ = G.get_edge_list()\n",
    "    TV = 0\n",
    "    for (s, t) in zip(source, target):\n",
    "        TV += np.abs(f[s] - f[t])**2\n",
    "    return TV"
   ]
  },
  {
   "cell_type": "code",
   "execution_count": 11,
   "metadata": {},
   "outputs": [],
   "source": [
    "# Symmetrize, unweighted A laplacian, just for reference\n",
    "Asym = A + A.T\n",
    "Adj = 1 * Asym != 0\n",
    "gref = graphs.Graph(Adj)"
   ]
  },
  {
   "cell_type": "code",
   "execution_count": 14,
   "metadata": {},
   "outputs": [
    {
     "data": {
      "text/plain": [
       "array([-1.44576365e-14,  6.15495743e+01,  6.28975659e+01,  6.37066654e+01,\n",
       "        6.38959972e+01,  6.39446189e+01,  8.62746757e+01,  6.49197689e+01,\n",
       "        8.57269327e+01,  8.55922823e+01,  8.53137914e+01,  6.52791763e+01,\n",
       "        8.48190256e+01,  6.58118083e+01,  8.44857891e+01,  8.42677455e+01,\n",
       "        6.62774693e+01,  8.40970353e+01,  6.64932259e+01,  6.68031022e+01,\n",
       "        8.34592626e+01,  6.70947672e+01,  6.73478817e+01,  6.75271035e+01,\n",
       "        6.76776081e+01,  6.78311023e+01,  6.80384693e+01,  6.81972152e+01,\n",
       "        6.83338163e+01,  8.30788107e+01,  6.86695697e+01,  6.89475246e+01,\n",
       "        6.90959629e+01,  6.93095841e+01,  6.94762339e+01,  8.28383357e+01,\n",
       "        8.26478106e+01,  8.25094461e+01,  6.97683854e+01,  7.00188459e+01,\n",
       "        7.01773114e+01,  7.03520972e+01,  8.19787712e+01,  8.19057236e+01,\n",
       "        8.17705106e+01,  7.08101750e+01,  8.14686022e+01,  8.13553245e+01,\n",
       "        8.11562085e+01,  8.10705567e+01,  8.08794291e+01,  8.07184989e+01,\n",
       "        7.12083612e+01,  7.13303700e+01,  7.15864252e+01,  7.17757683e+01,\n",
       "        7.18659749e+01,  7.19109910e+01,  8.04278023e+01,  8.02354089e+01,\n",
       "        7.99995810e+01,  7.22486250e+01,  7.23831866e+01,  7.26056407e+01,\n",
       "        7.27228587e+01,  7.96303902e+01,  7.94567536e+01,  7.95410462e+01,\n",
       "        7.92312940e+01,  7.91069627e+01,  7.87480064e+01,  7.87065142e+01,\n",
       "        7.84435275e+01,  7.31536894e+01,  7.32964621e+01,  7.35254045e+01,\n",
       "        7.35887872e+01,  7.80154406e+01,  7.80477723e+01,  7.77672836e+01,\n",
       "        7.76550661e+01,  7.73607006e+01,  7.72057109e+01,  7.69593499e+01,\n",
       "        7.68478355e+01,  7.66616718e+01,  7.65158279e+01,  7.63353121e+01,\n",
       "        7.63067081e+01,  7.38999922e+01,  7.40725435e+01,  7.42780783e+01,\n",
       "        7.45464684e+01,  7.58122070e+01,  7.56292973e+01,  7.55050805e+01,\n",
       "        7.52855510e+01,  7.50990084e+01,  7.49478787e+01,  7.48481886e+01])"
      ]
     },
     "execution_count": 14,
     "metadata": {},
     "output_type": "execute_result"
    }
   ],
   "source": [
    "np.linalg.eigvals(gref.L.todense())"
   ]
  },
  {
   "cell_type": "code",
   "execution_count": 15,
   "metadata": {},
   "outputs": [],
   "source": [
    "gref = graphs.Graph(Asym)"
   ]
  },
  {
   "cell_type": "code",
   "execution_count": 16,
   "metadata": {},
   "outputs": [
    {
     "data": {
      "text/plain": [
       "array([-4.38988654e-16,  7.82682254e+01,  8.03016307e+01,  8.10337564e+01,\n",
       "        1.19633449e+02,  1.18843425e+02,  1.18357438e+02,  8.24474923e+01,\n",
       "        8.31224785e+01,  8.37541439e+01,  8.43587565e+01,  8.47737616e+01,\n",
       "        1.16433486e+02,  8.51303391e+01,  1.16143484e+02,  8.54186617e+01,\n",
       "        1.15753901e+02,  8.58190509e+01,  1.15373585e+02,  1.14945566e+02,\n",
       "        8.63058130e+01,  8.68812999e+01,  8.72420544e+01,  1.13972615e+02,\n",
       "        1.13831864e+02,  1.13622141e+02,  1.13328821e+02,  1.13106155e+02,\n",
       "        1.12631316e+02,  8.75420000e+01,  8.77284554e+01,  1.12035811e+02,\n",
       "        8.84103513e+01,  8.86099396e+01,  8.87644591e+01,  8.92293665e+01,\n",
       "        1.11608516e+02,  1.11277063e+02,  1.10593009e+02,  1.10464960e+02,\n",
       "        9.02389825e+01,  9.02635709e+01,  9.09070677e+01,  9.12453215e+01,\n",
       "        9.15132306e+01,  9.17884675e+01,  1.09723794e+02,  1.09336656e+02,\n",
       "        1.09087642e+02,  1.08499784e+02,  1.08291049e+02,  1.07926127e+02,\n",
       "        1.07825313e+02,  9.25777074e+01,  1.07473428e+02,  9.28446082e+01,\n",
       "        9.32434789e+01,  9.33180068e+01,  9.37219115e+01,  1.06688729e+02,\n",
       "        1.06600136e+02,  1.06132545e+02,  1.06045941e+02,  1.05538583e+02,\n",
       "        1.05681602e+02,  1.04901057e+02,  1.04804909e+02,  1.04390083e+02,\n",
       "        1.03933501e+02,  1.03695938e+02,  1.03351933e+02,  1.03176128e+02,\n",
       "        9.44264014e+01,  9.46653137e+01,  9.50662254e+01,  9.52127987e+01,\n",
       "        1.02235312e+02,  1.02073279e+02,  1.01850157e+02,  1.01481000e+02,\n",
       "        9.54473137e+01,  9.58224369e+01,  9.59350960e+01,  9.63384042e+01,\n",
       "        9.65383190e+01,  9.71161744e+01,  9.72118953e+01,  9.74037097e+01,\n",
       "        9.78564592e+01,  9.75744919e+01,  9.85567748e+01,  9.87283838e+01,\n",
       "        9.88285676e+01,  9.90786534e+01,  1.00983390e+02,  1.00717238e+02,\n",
       "        1.00808963e+02,  1.00001868e+02,  9.98654616e+01,  1.00310041e+02])"
      ]
     },
     "execution_count": 16,
     "metadata": {},
     "output_type": "execute_result"
    }
   ],
   "source": [
    "np.linalg.eigvals(gref.L.todense())"
   ]
  },
  {
   "cell_type": "code",
   "execution_count": 18,
   "metadata": {},
   "outputs": [
    {
     "name": "stdout",
     "output_type": "stream",
     "text": [
      "(24.61304241193556+0j)\n"
     ]
    },
    {
     "name": "stderr",
     "output_type": "stream",
     "text": [
      "/home/akumar/anaconda3/envs/ncontrol/lib/python3.9/site-packages/matplotlib/cbook/__init__.py:1289: ComplexWarning: Casting complex values to real discards the imaginary part\n",
      "  return np.asarray(x, float)\n"
     ]
    },
    {
     "name": "stdout",
     "output_type": "stream",
     "text": [
      "(24.660078905478823+1.7921228027367438e-16j)\n"
     ]
    },
    {
     "name": "stderr",
     "output_type": "stream",
     "text": [
      "/home/akumar/anaconda3/envs/ncontrol/lib/python3.9/site-packages/matplotlib/cbook/__init__.py:1289: ComplexWarning: Casting complex values to real discards the imaginary part\n",
      "  return np.asarray(x, float)\n"
     ]
    },
    {
     "name": "stdout",
     "output_type": "stream",
     "text": [
      "(25.77887135825529-2.926261812178735e-16j)\n"
     ]
    },
    {
     "name": "stderr",
     "output_type": "stream",
     "text": [
      "/home/akumar/anaconda3/envs/ncontrol/lib/python3.9/site-packages/matplotlib/cbook/__init__.py:1289: ComplexWarning: Casting complex values to real discards the imaginary part\n",
      "  return np.asarray(x, float)\n"
     ]
    },
    {
     "name": "stdout",
     "output_type": "stream",
     "text": [
      "(29.151394660281703+2.221851956776552e-15j)\n"
     ]
    },
    {
     "name": "stderr",
     "output_type": "stream",
     "text": [
      "/home/akumar/anaconda3/envs/ncontrol/lib/python3.9/site-packages/matplotlib/cbook/__init__.py:1289: ComplexWarning: Casting complex values to real discards the imaginary part\n",
      "  return np.asarray(x, float)\n"
     ]
    },
    {
     "name": "stdout",
     "output_type": "stream",
     "text": [
      "(60.00986477164312-2.3692902291120345e-22j)\n"
     ]
    },
    {
     "name": "stderr",
     "output_type": "stream",
     "text": [
      "/home/akumar/anaconda3/envs/ncontrol/lib/python3.9/site-packages/matplotlib/cbook/__init__.py:1289: ComplexWarning: Casting complex values to real discards the imaginary part\n",
      "  return np.asarray(x, float)\n"
     ]
    },
    {
     "data": {
      "text/plain": [
       "<matplotlib.legend.Legend at 0x7fca807097f0>"
      ]
     },
     "execution_count": 18,
     "metadata": {},
     "output_type": "execute_result"
    },
    {
     "data": {
      "image/png": "[encoded data removed]",
      "text/plain": [
       "<Figure size 640x480 with 1 Axes>"
      ]
     },
     "metadata": {},
     "output_type": "display_data"
    }
   ],
   "source": [
    "for q_ in np.array([0, 0.01, 0.05, 0.1, 0.5]):\n",
    "    A = 1 * (A != 0)\n",
    "    g = graphs.DiGraph(A, q=q_)\n",
    "    eig, U = np.linalg.eig(g.L)\n",
    "    print(np.min(eig))\n",
    "    eig_order = np.argsort(eig)[::-1]\n",
    "    eig = eig[eig_order]\n",
    "    U = U[:, eig_order]\n",
    "\n",
    "    TV = np.zeros(U.shape[1])\n",
    "    for i in range(U.shape[1]):\n",
    "        TV[i] = total_variation(U[:, i], g)\n",
    "\n",
    "    plt.plot(eig, TV, label='q={}'.format(q_))\n",
    "\n",
    "plt.legend()"
   ]
  },
  {
   "cell_type": "code",
   "execution_count": 21,
   "metadata": {},
   "outputs": [
    {
     "data": {
      "text/plain": [
       "49.37"
      ]
     },
     "execution_count": 21,
     "metadata": {},
     "output_type": "execute_result"
    }
   ],
   "source": [
    "np.mean(np.sum(A, axis=1))"
   ]
  },
  {
   "cell_type": "code",
   "execution_count": 25,
   "metadata": {},
   "outputs": [
    {
     "data": {
      "text/plain": [
       "0.045628948342989965"
      ]
     },
     "execution_count": 25,
     "metadata": {},
     "output_type": "execute_result"
    }
   ],
   "source": [
    "np.arccos(1 - 2/49)/(2 * np.pi)"
   ]
  },
  {
   "cell_type": "code",
   "execution_count": null,
   "metadata": {},
   "outputs": [],
   "source": []
  }
 ],
 "metadata": {
  "kernelspec": {
   "display_name": "netcon",
   "language": "python",
   "name": "python3"
  },
  "language_info": {
   "codemirror_mode": {
    "name": "ipython",
    "version": 3
   },
   "file_extension": ".py",
   "mimetype": "text/x-python",
   "name": "python",
   "nbconvert_exporter": "python",
   "pygments_lexer": "ipython3",
   "version": "3.9.13"
  },
  "orig_nbformat": 4
 },
 "nbformat": 4,
 "nbformat_minor": 2
}
